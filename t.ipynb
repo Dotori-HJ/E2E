{
 "cells": [
  {
   "cell_type": "code",
   "execution_count": 5,
   "metadata": {},
   "outputs": [
    {
     "name": "stdout",
     "output_type": "stream",
     "text": [
      "None\n",
      "tensor([ 0.0464,  0.0029,  0.0399,  0.0155, -0.0088,  0.0274,  0.0219, -0.0544,\n",
      "        -0.0362, -0.0310, -0.0628,  0.0099, -0.0035,  0.0323, -0.0482,  0.0163,\n",
      "         0.0115, -0.0004, -0.0094,  0.0077])\n"
     ]
    }
   ],
   "source": [
    "import torch\n",
    "import torch.nn as nn\n",
    "\n",
    "x = torch.randn(10, 10)\n",
    "\n",
    "a = nn.Linear(10, 20)\n",
    "b = nn.Linear(20, 10)\n",
    "\n",
    "loss = b(a(x).detach()).mean()\n",
    "loss.backward()\n",
    "\n",
    "print(a.weight.grad)\n",
    "print(b.weight.grad[0])"
   ]
  },
  {
   "cell_type": "code",
   "execution_count": 3,
   "metadata": {},
   "outputs": [],
   "source": [
    "with open('data/thumos14/thumos14_img15fps/test.txt') as f:\n",
    "    names = f.readlines()\n",
    "\n",
    "import os\n",
    "src_folder = '/home/ds/SSD2/TALLFormer/data/thumos14/frames_15fps_256x256/test'\n",
    "dst_folder = 'data/thumos14/thumos14_img15fps'\n",
    "for name in names:\n",
    "    name = name.strip()\n",
    "    src_path = os.path.join(src_folder, name)\n",
    "    dst_path = os.path.join(dst_folder, name)\n",
    "\n",
    "    os.symlink(src_path, dst_path)"
   ]
  },
  {
   "cell_type": "code",
   "execution_count": 2,
   "metadata": {},
   "outputs": [],
   "source": [
    "import json\n",
    "\n",
    "with open(\"data/thumos14/th14_annotations_with_fps_duration.json\") as f:\n",
    "    data = json.load(f)"
   ]
  },
  {
   "cell_type": "code",
   "execution_count": 3,
   "metadata": {},
   "outputs": [
    {
     "data": {
      "text/plain": [
       "dict_keys(['classes', 'database'])"
      ]
     },
     "execution_count": 3,
     "metadata": {},
     "output_type": "execute_result"
    }
   ],
   "source": [
    "data.keys()"
   ]
  },
  {
   "cell_type": "code",
   "execution_count": 5,
   "metadata": {},
   "outputs": [
    {
     "data": {
      "text/plain": [
       "['BaseballPitch',\n",
       " 'BasketballDunk',\n",
       " 'Billiards',\n",
       " 'CleanAndJerk',\n",
       " 'CliffDiving',\n",
       " 'CricketBowling',\n",
       " 'CricketShot',\n",
       " 'Diving',\n",
       " 'FrisbeeCatch',\n",
       " 'GolfSwing',\n",
       " 'HammerThrow',\n",
       " 'HighJump',\n",
       " 'JavelinThrow',\n",
       " 'LongJump',\n",
       " 'PoleVault',\n",
       " 'Shotput',\n",
       " 'SoccerPenalty',\n",
       " 'TennisSwing',\n",
       " 'ThrowDiscus',\n",
       " 'VolleyballSpiking']"
      ]
     },
     "execution_count": 5,
     "metadata": {},
     "output_type": "execute_result"
    }
   ],
   "source": [
    "data['classes']"
   ]
  },
  {
   "cell_type": "code",
   "execution_count": 11,
   "metadata": {},
   "outputs": [],
   "source": [
    "for name in data['database'].keys():\n",
    "    data['database'][name].pop('fps')"
   ]
  },
  {
   "cell_type": "code",
   "execution_count": 12,
   "metadata": {},
   "outputs": [
    {
     "data": {
      "text/plain": [
       "dict_keys(['subset', 'annotations', 'duration'])"
      ]
     },
     "execution_count": 12,
     "metadata": {},
     "output_type": "execute_result"
    }
   ],
   "source": [
    "name = list(data['database'].keys())[0]\n",
    "data['database'][name].keys()"
   ]
  },
  {
   "cell_type": "code",
   "execution_count": 13,
   "metadata": {},
   "outputs": [],
   "source": [
    "with open('removed_fpn.json', 'wt') as f:\n",
    "    json.dump(data, f)"
   ]
  }
 ],
 "metadata": {
  "kernelspec": {
   "display_name": "base",
   "language": "python",
   "name": "python3"
  },
  "language_info": {
   "codemirror_mode": {
    "name": "ipython",
    "version": 3
   },
   "file_extension": ".py",
   "mimetype": "text/x-python",
   "name": "python",
   "nbconvert_exporter": "python",
   "pygments_lexer": "ipython3",
   "version": "3.9.13"
  },
  "orig_nbformat": 4,
  "vscode": {
   "interpreter": {
    "hash": "ede290b486faef995a1df5944c909b0b6053f6be932e687837ca7c9d33119b13"
   }
  }
 },
 "nbformat": 4,
 "nbformat_minor": 2
}
