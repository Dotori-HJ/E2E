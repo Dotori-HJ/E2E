{
 "cells": [
  {
   "cell_type": "code",
   "execution_count": 3,
   "metadata": {},
   "outputs": [],
   "source": [
    "with open('data/thumos14/thumos14_img15fps/test.txt') as f:\n",
    "    names = f.readlines()\n",
    "\n",
    "import os\n",
    "src_folder = '/home/ds/SSD2/TALLFormer/data/thumos14/frames_15fps_256x256/test'\n",
    "dst_folder = 'data/thumos14/thumos14_img15fps'\n",
    "for name in names:\n",
    "    name = name.strip()\n",
    "    src_path = os.path.join(src_folder, name)\n",
    "    dst_path = os.path.join(dst_folder, name)\n",
    "\n",
    "    os.symlink(src_path, dst_path)"
   ]
  },
  {
   "cell_type": "code",
   "execution_count": 2,
   "metadata": {},
   "outputs": [],
   "source": [
    "import json\n",
    "\n",
    "with open(\"data/thumos14/th14_annotations_with_fps_duration.json\") as f:\n",
    "    data = json.load(f)"
   ]
  },
  {
   "cell_type": "code",
   "execution_count": 3,
   "metadata": {},
   "outputs": [
    {
     "data": {
      "text/plain": [
       "dict_keys(['classes', 'database'])"
      ]
     },
     "execution_count": 3,
     "metadata": {},
     "output_type": "execute_result"
    }
   ],
   "source": [
    "data.keys()"
   ]
  },
  {
   "cell_type": "code",
   "execution_count": 5,
   "metadata": {},
   "outputs": [
    {
     "data": {
      "text/plain": [
       "['BaseballPitch',\n",
       " 'BasketballDunk',\n",
       " 'Billiards',\n",
       " 'CleanAndJerk',\n",
       " 'CliffDiving',\n",
       " 'CricketBowling',\n",
       " 'CricketShot',\n",
       " 'Diving',\n",
       " 'FrisbeeCatch',\n",
       " 'GolfSwing',\n",
       " 'HammerThrow',\n",
       " 'HighJump',\n",
       " 'JavelinThrow',\n",
       " 'LongJump',\n",
       " 'PoleVault',\n",
       " 'Shotput',\n",
       " 'SoccerPenalty',\n",
       " 'TennisSwing',\n",
       " 'ThrowDiscus',\n",
       " 'VolleyballSpiking']"
      ]
     },
     "execution_count": 5,
     "metadata": {},
     "output_type": "execute_result"
    }
   ],
   "source": [
    "data['classes']"
   ]
  },
  {
   "cell_type": "code",
   "execution_count": 11,
   "metadata": {},
   "outputs": [],
   "source": [
    "for name in data['database'].keys():\n",
    "    data['database'][name].pop('fps')"
   ]
  },
  {
   "cell_type": "code",
   "execution_count": 12,
   "metadata": {},
   "outputs": [
    {
     "data": {
      "text/plain": [
       "dict_keys(['subset', 'annotations', 'duration'])"
      ]
     },
     "execution_count": 12,
     "metadata": {},
     "output_type": "execute_result"
    }
   ],
   "source": [
    "name = list(data['database'].keys())[0]\n",
    "data['database'][name].keys()"
   ]
  },
  {
   "cell_type": "code",
   "execution_count": 13,
   "metadata": {},
   "outputs": [],
   "source": [
    "with open('removed_fpn.json', 'wt') as f:\n",
    "    json.dump(data, f)"
   ]
  }
 ],
 "metadata": {
  "kernelspec": {
   "display_name": "base",
   "language": "python",
   "name": "python3"
  },
  "language_info": {
   "codemirror_mode": {
    "name": "ipython",
    "version": 3
   },
   "file_extension": ".py",
   "mimetype": "text/x-python",
   "name": "python",
   "nbconvert_exporter": "python",
   "pygments_lexer": "ipython3",
   "version": "3.9.13"
  },
  "orig_nbformat": 4,
  "vscode": {
   "interpreter": {
    "hash": "ede290b486faef995a1df5944c909b0b6053f6be932e687837ca7c9d33119b13"
   }
  }
 },
 "nbformat": 4,
 "nbformat_minor": 2
}
