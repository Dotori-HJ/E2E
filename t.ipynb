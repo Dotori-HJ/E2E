{
 "cells": [
  {
   "cell_type": "code",
   "execution_count": 8,
   "metadata": {},
   "outputs": [
    {
     "name": "stdout",
     "output_type": "stream",
     "text": [
      "0 2\n",
      "0\n"
     ]
    }
   ],
   "source": [
    "import json\n",
    "with open(\"data/activitynet/gt.json\", 'rt') as f:\n",
    "    data = json.load(f)['database']\n",
    "\n",
    "lengths = []\n",
    "for vid in data.keys():\n",
    "    classes = set()\n",
    "    for anno in data[vid]['annotations']:\n",
    "        classes.update([anno['label']])\n",
    "    lengths.append(len(classes))\n",
    "\n",
    "import numpy as np\n",
    "lengths = np.asarray(lengths)\n",
    "print(np.min(lengths), np.max(lengths))\n",
    "print(np.sum(lengths > 2))"
   ]
  },
  {
   "cell_type": "code",
   "execution_count": 3,
   "metadata": {},
   "outputs": [],
   "source": [
    "def _get_classes(anno_dict):\n",
    "    if 'classes' in anno_dict:\n",
    "        classes = anno_dict['classes']\n",
    "    else:\n",
    "\n",
    "        database = anno_dict['database']\n",
    "        all_gts = []\n",
    "        for vid in database:\n",
    "            all_gts += database[vid]['annotations']\n",
    "        classes = list(sorted({x['label'] for x in all_gts}))\n",
    "    return classes"
   ]
  },
  {
   "cell_type": "code",
   "execution_count": 8,
   "metadata": {},
   "outputs": [],
   "source": [
    "import json\n",
    "with open(\"data/activitynet/gt.json\", 'rt') as f:\n",
    "    data = json.load(f)\n",
    "\n",
    "classes = _get_classes(data)"
   ]
  },
  {
   "cell_type": "code",
   "execution_count": 9,
   "metadata": {},
   "outputs": [],
   "source": [
    "import json\n",
    "with open(\"data/activitynet/cuhk_results.json\", 'rt') as f:\n",
    "    data = json.load(f)\n",
    "\n",
    "chuk_classes = data['class']"
   ]
  },
  {
   "cell_type": "code",
   "execution_count": 11,
   "metadata": {},
   "outputs": [
    {
     "name": "stdout",
     "output_type": "stream",
     "text": [
      "Applying sunscreen Applying sunscreen\n",
      "Archery Archery\n",
      "Arm wrestling Arm wrestling\n",
      "Assembling bicycle Assembling bicycle\n",
      "BMX BMX\n",
      "Baking cookies Baking cookies\n",
      "Ballet Ballet\n",
      "Bathing dog Bathing dog\n",
      "Baton twirling Baton twirling\n",
      "Beach soccer Beach soccer\n",
      "Beer pong Beer pong\n",
      "Belly dance Belly dance\n",
      "Blow-drying hair Blow-drying hair\n",
      "Blowing leaves Blowing leaves\n",
      "Braiding hair Braiding hair\n",
      "Breakdancing Breakdancing\n",
      "Brushing hair Brushing hair\n",
      "Brushing teeth Brushing teeth\n",
      "Building sandcastles Building sandcastles\n",
      "Bullfighting Bullfighting\n",
      "Bungee jumping Bungee jumping\n",
      "Calf roping Calf roping\n",
      "Camel ride Camel ride\n",
      "Canoeing Canoeing\n",
      "Capoeira Capoeira\n",
      "Carving jack-o-lanterns Carving jack-o-lanterns\n",
      "Changing car wheel Changing car wheel\n",
      "Cheerleading Cheerleading\n",
      "Chopping wood Chopping wood\n",
      "Clean and jerk Clean and jerk\n",
      "Cleaning shoes Cleaning shoes\n",
      "Cleaning sink Cleaning sink\n",
      "Cleaning windows Cleaning windows\n",
      "Clipping cat claws Clipping cat claws\n",
      "Cricket Cricket\n",
      "Croquet Croquet\n",
      "Cumbia Cumbia\n",
      "Curling Curling\n",
      "Cutting the grass Cutting the grass\n",
      "Decorating the Christmas tree Decorating the Christmas tree\n",
      "Disc dog Disc dog\n",
      "Discus throw Discus throw\n",
      "Dodgeball Dodgeball\n",
      "Doing a powerbomb Doing a powerbomb\n",
      "Doing crunches Doing crunches\n",
      "Doing fencing Doing fencing\n",
      "Doing karate Doing karate\n",
      "Doing kickboxing Doing kickboxing\n",
      "Doing motocross Doing motocross\n",
      "Doing nails Doing nails\n",
      "Doing step aerobics Doing step aerobics\n",
      "Drinking beer Drinking beer\n",
      "Drinking coffee Drinking coffee\n",
      "Drum corps Drum corps\n",
      "Elliptical trainer Elliptical trainer\n",
      "Fixing bicycle Fixing bicycle\n",
      "Fixing the roof Fixing the roof\n",
      "Fun sliding down Fun sliding down\n",
      "Futsal Futsal\n",
      "Gargling mouthwash Gargling mouthwash\n",
      "Getting a haircut Getting a haircut\n",
      "Getting a piercing Getting a piercing\n",
      "Getting a tattoo Getting a tattoo\n",
      "Grooming dog Grooming dog\n",
      "Grooming horse Grooming horse\n",
      "Hammer throw Hammer throw\n",
      "Hand car wash Hand car wash\n",
      "Hand washing clothes Hand washing clothes\n",
      "Hanging wallpaper Hanging wallpaper\n",
      "Having an ice cream Having an ice cream\n",
      "High jump High jump\n",
      "Hitting a pinata Hitting a pinata\n",
      "Hopscotch Hopscotch\n",
      "Horseback riding Horseback riding\n",
      "Hula hoop Hula hoop\n",
      "Hurling Hurling\n",
      "Ice fishing Ice fishing\n",
      "Installing carpet Installing carpet\n",
      "Ironing clothes Ironing clothes\n",
      "Javelin throw Javelin throw\n",
      "Kayaking Kayaking\n",
      "Kite flying Kite flying\n",
      "Kneeling Kneeling\n",
      "Knitting Knitting\n",
      "Laying tile Laying tile\n",
      "Layup drill in basketball Layup drill in basketball\n",
      "Long jump Long jump\n",
      "Longboarding Longboarding\n",
      "Making a cake Making a cake\n",
      "Making a lemonade Making a lemonade\n",
      "Making a sandwich Making a sandwich\n",
      "Making an omelette Making an omelette\n",
      "Mixing drinks Mixing drinks\n",
      "Mooping floor Mooping floor\n",
      "Mowing the lawn Mowing the lawn\n",
      "Paintball Paintball\n",
      "Painting Painting\n",
      "Painting fence Painting fence\n",
      "Painting furniture Painting furniture\n",
      "Peeling potatoes Peeling potatoes\n",
      "Ping-pong Ping-pong\n",
      "Plastering Plastering\n",
      "Plataform diving Plataform diving\n",
      "Playing accordion Playing accordion\n",
      "Playing badminton Playing badminton\n",
      "Playing bagpipes Playing bagpipes\n",
      "Playing beach volleyball Playing beach volleyball\n",
      "Playing blackjack Playing blackjack\n",
      "Playing congas Playing congas\n",
      "Playing drums Playing drums\n",
      "Playing field hockey Playing field hockey\n",
      "Playing flauta Playing flauta\n",
      "Playing guitarra Playing guitarra\n",
      "Playing harmonica Playing harmonica\n",
      "Playing ice hockey Playing ice hockey\n",
      "Playing kickball Playing kickball\n",
      "Playing lacrosse Playing lacrosse\n",
      "Playing piano Playing piano\n",
      "Playing polo Playing polo\n",
      "Playing pool Playing pool\n",
      "Playing racquetball Playing racquetball\n",
      "Playing rubik cube Playing rubik cube\n",
      "Playing saxophone Playing saxophone\n",
      "Playing squash Playing squash\n",
      "Playing ten pins Playing ten pins\n",
      "Playing violin Playing violin\n",
      "Playing water polo Playing water polo\n",
      "Pole vault Pole vault\n",
      "Polishing forniture Polishing forniture\n",
      "Polishing shoes Polishing shoes\n",
      "Powerbocking Powerbocking\n",
      "Preparing pasta Preparing pasta\n",
      "Preparing salad Preparing salad\n",
      "Putting in contact lenses Putting in contact lenses\n",
      "Putting on makeup Putting on makeup\n",
      "Putting on shoes Putting on shoes\n",
      "Rafting Rafting\n",
      "Raking leaves Raking leaves\n",
      "Removing curlers Removing curlers\n",
      "Removing ice from car Removing ice from car\n",
      "Riding bumper cars Riding bumper cars\n",
      "River tubing River tubing\n",
      "Rock climbing Rock climbing\n",
      "Rock-paper-scissors Rock-paper-scissors\n",
      "Rollerblading Rollerblading\n",
      "Roof shingle removal Roof shingle removal\n",
      "Rope skipping Rope skipping\n",
      "Running a marathon Running a marathon\n",
      "Sailing Sailing\n",
      "Scuba diving Scuba diving\n",
      "Sharpening knives Sharpening knives\n",
      "Shaving Shaving\n",
      "Shaving legs Shaving legs\n",
      "Shot put Shot put\n",
      "Shoveling snow Shoveling snow\n",
      "Shuffleboard Shuffleboard\n",
      "Skateboarding Skateboarding\n",
      "Skiing Skiing\n",
      "Slacklining Slacklining\n",
      "Smoking a cigarette Smoking a cigarette\n",
      "Smoking hookah Smoking hookah\n",
      "Snatch Snatch\n",
      "Snow tubing Snow tubing\n",
      "Snowboarding Snowboarding\n",
      "Spinning Spinning\n",
      "Spread mulch Spread mulch\n",
      "Springboard diving Springboard diving\n",
      "Starting a campfire Starting a campfire\n",
      "Sumo Sumo\n",
      "Surfing Surfing\n",
      "Swimming Swimming\n",
      "Swinging at the playground Swinging at the playground\n",
      "Table soccer Table soccer\n",
      "Tai chi Tai chi\n",
      "Tango Tango\n",
      "Tennis serve with ball bouncing Tennis serve with ball bouncing\n",
      "Throwing darts Throwing darts\n",
      "Trimming branches or hedges Trimming branches or hedges\n",
      "Triple jump Triple jump\n",
      "Tug of war Tug of war\n",
      "Tumbling Tumbling\n",
      "Using parallel bars Using parallel bars\n",
      "Using the balance beam Using the balance beam\n",
      "Using the monkey bar Using the monkey bar\n",
      "Using the pommel horse Using the pommel horse\n",
      "Using the rowing machine Using the rowing machine\n",
      "Using uneven bars Using uneven bars\n",
      "Vacuuming floor Vacuuming floor\n",
      "Volleyball Volleyball\n",
      "Wakeboarding Wakeboarding\n",
      "Walking the dog Walking the dog\n",
      "Washing dishes Washing dishes\n",
      "Washing face Washing face\n",
      "Washing hands Washing hands\n",
      "Waterskiing Waterskiing\n",
      "Waxing skis Waxing skis\n",
      "Welding Welding\n",
      "Windsurfing Windsurfing\n",
      "Wrapping presents Wrapping presents\n",
      "Zumba Zumba\n"
     ]
    }
   ],
   "source": [
    "for c1, c2 in zip(classes, chuk_classes):\n",
    "    print(c1, c2)\n",
    "    if c1 != c2:\n",
    "        print(c1, c2)"
   ]
  },
  {
   "cell_type": "code",
   "execution_count": 4,
   "metadata": {},
   "outputs": [],
   "source": [
    "import json\n",
    "with open(\"data/activitynet/cuhk_val_simp_share.json\", 'rt') as f:\n",
    "    data = json.load(f)\n",
    "\n",
    "new_dict = dict()\n",
    "\n",
    "dst_path  = \"data/activitynet/ext_classifier.json\"\n",
    "new_dict['class'] = data['class']\n",
    "new_dict['results'] = dict()\n",
    "for key in data['results'].keys():\n",
    "    new_dict['results']['v_' + key] = data['results'][key]\n",
    "\n",
    "with open(dst_path, 'wt') as f:\n",
    "    json.dump(new_dict, f)\n",
    "# print(data['class'])\n",
    "# print()"
   ]
  },
  {
   "cell_type": "code",
   "execution_count": 5,
   "metadata": {},
   "outputs": [
    {
     "name": "stdout",
     "output_type": "stream",
     "text": [
      "None\n",
      "tensor([ 0.0464,  0.0029,  0.0399,  0.0155, -0.0088,  0.0274,  0.0219, -0.0544,\n",
      "        -0.0362, -0.0310, -0.0628,  0.0099, -0.0035,  0.0323, -0.0482,  0.0163,\n",
      "         0.0115, -0.0004, -0.0094,  0.0077])\n"
     ]
    }
   ],
   "source": [
    "import torch\n",
    "import torch.nn as nn\n",
    "\n",
    "x = torch.randn(10, 10)\n",
    "\n",
    "a = nn.Linear(10, 20)\n",
    "b = nn.Linear(20, 10)\n",
    "\n",
    "loss = b(a(x).detach()).mean()\n",
    "loss.backward()\n",
    "\n",
    "print(a.weight.grad)\n",
    "print(b.weight.grad[0])"
   ]
  },
  {
   "cell_type": "code",
   "execution_count": 3,
   "metadata": {},
   "outputs": [],
   "source": [
    "with open('data/thumos14/thumos14_img15fps/test.txt') as f:\n",
    "    names = f.readlines()\n",
    "\n",
    "import os\n",
    "src_folder = '/home/ds/SSD2/TALLFormer/data/thumos14/frames_15fps_256x256/test'\n",
    "dst_folder = 'data/thumos14/thumos14_img15fps'\n",
    "for name in names:\n",
    "    name = name.strip()\n",
    "    src_path = os.path.join(src_folder, name)\n",
    "    dst_path = os.path.join(dst_folder, name)\n",
    "\n",
    "    os.symlink(src_path, dst_path)"
   ]
  },
  {
   "cell_type": "code",
   "execution_count": 2,
   "metadata": {},
   "outputs": [],
   "source": [
    "import json\n",
    "\n",
    "with open(\"data/thumos14/th14_annotations_with_fps_duration.json\") as f:\n",
    "    data = json.load(f)"
   ]
  },
  {
   "cell_type": "code",
   "execution_count": 3,
   "metadata": {},
   "outputs": [
    {
     "data": {
      "text/plain": [
       "dict_keys(['classes', 'database'])"
      ]
     },
     "execution_count": 3,
     "metadata": {},
     "output_type": "execute_result"
    }
   ],
   "source": [
    "data.keys()"
   ]
  },
  {
   "cell_type": "code",
   "execution_count": 5,
   "metadata": {},
   "outputs": [
    {
     "data": {
      "text/plain": [
       "['BaseballPitch',\n",
       " 'BasketballDunk',\n",
       " 'Billiards',\n",
       " 'CleanAndJerk',\n",
       " 'CliffDiving',\n",
       " 'CricketBowling',\n",
       " 'CricketShot',\n",
       " 'Diving',\n",
       " 'FrisbeeCatch',\n",
       " 'GolfSwing',\n",
       " 'HammerThrow',\n",
       " 'HighJump',\n",
       " 'JavelinThrow',\n",
       " 'LongJump',\n",
       " 'PoleVault',\n",
       " 'Shotput',\n",
       " 'SoccerPenalty',\n",
       " 'TennisSwing',\n",
       " 'ThrowDiscus',\n",
       " 'VolleyballSpiking']"
      ]
     },
     "execution_count": 5,
     "metadata": {},
     "output_type": "execute_result"
    }
   ],
   "source": [
    "data['classes']"
   ]
  },
  {
   "cell_type": "code",
   "execution_count": 11,
   "metadata": {},
   "outputs": [],
   "source": [
    "for name in data['database'].keys():\n",
    "    data['database'][name].pop('fps')"
   ]
  },
  {
   "cell_type": "code",
   "execution_count": 12,
   "metadata": {},
   "outputs": [
    {
     "data": {
      "text/plain": [
       "dict_keys(['subset', 'annotations', 'duration'])"
      ]
     },
     "execution_count": 12,
     "metadata": {},
     "output_type": "execute_result"
    }
   ],
   "source": [
    "name = list(data['database'].keys())[0]\n",
    "data['database'][name].keys()"
   ]
  },
  {
   "cell_type": "code",
   "execution_count": 13,
   "metadata": {},
   "outputs": [],
   "source": [
    "with open('removed_fpn.json', 'wt') as f:\n",
    "    json.dump(data, f)"
   ]
  }
 ],
 "metadata": {
  "kernelspec": {
   "display_name": "base",
   "language": "python",
   "name": "python3"
  },
  "language_info": {
   "codemirror_mode": {
    "name": "ipython",
    "version": 3
   },
   "file_extension": ".py",
   "mimetype": "text/x-python",
   "name": "python",
   "nbconvert_exporter": "python",
   "pygments_lexer": "ipython3",
   "version": "3.9.13"
  },
  "orig_nbformat": 4,
  "vscode": {
   "interpreter": {
    "hash": "ede290b486faef995a1df5944c909b0b6053f6be932e687837ca7c9d33119b13"
   }
  }
 },
 "nbformat": 4,
 "nbformat_minor": 2
}
